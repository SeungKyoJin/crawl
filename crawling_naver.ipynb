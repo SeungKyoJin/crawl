{
 "cells": [
  {
   "cell_type": "code",
   "execution_count": 31,
   "metadata": {},
   "outputs": [],
   "source": [
    "from selenium import webdriver\n",
    "from selenium.webdriver.common.keys import Keys\n",
    "from selenium.webdriver.support.ui import Select\n",
    "from time import sleep\n",
    "from pymongo import MongoClient\n",
    "import re\n",
    "\n",
    "from selenium.webdriver.support.ui import WebDriverWait\n",
    "from selenium.webdriver.support import expected_conditions as EC\n",
    "from selenium.webdriver.common.by import By\n",
    "from selenium.common.exceptions import TimeoutException"
   ]
  },
  {
   "cell_type": "code",
   "execution_count": 41,
   "metadata": {},
   "outputs": [],
   "source": [
    "options = webdriver.ChromeOptions()\n",
    "options.add_argument('headless')\n",
    "options.add_argument('window-size=1920x1080')\n",
    "options.add_argument('disable-gpu')\n",
    "options.add_argument(\"user-agent=Mozilla/5.0 (Macintosh; Intel Mac OS X 10_12_6) AppleWebKit/537.36 (KHTML, like Gecko) Chrome/61.0.3163.100 Safari/537.36\")\n",
    "options.add_argument(\"lang=ko_KR\")"
   ]
  },
  {
   "cell_type": "code",
   "execution_count": 30,
   "metadata": {
    "scrolled": false
   },
   "outputs": [],
   "source": [
    "client = MongoClient()"
   ]
  },
  {
   "cell_type": "code",
   "execution_count": 32,
   "metadata": {},
   "outputs": [],
   "source": [
    "db = client.test"
   ]
  },
  {
   "cell_type": "code",
   "execution_count": 33,
   "metadata": {},
   "outputs": [],
   "source": [
    "results = db.results"
   ]
  },
  {
   "cell_type": "code",
   "execution_count": 42,
   "metadata": {},
   "outputs": [
    {
     "name": "stderr",
     "output_type": "stream",
     "text": [
      "/home/jin/anaconda3/lib/python3.6/site-packages/ipykernel_launcher.py:4: DeprecationWarning: use options instead of chrome_options\n",
      "  after removing the cwd from sys.path.\n"
     ]
    }
   ],
   "source": [
    "# 크롬 드라이버의 경로\n",
    "# headless\n",
    "add = '/home/jin/다운로드/chromedriver'\n",
    "driver = webdriver.Chrome(add, chrome_options=options)"
   ]
  },
  {
   "cell_type": "code",
   "execution_count": 53,
   "metadata": {},
   "outputs": [],
   "source": [
    "keywords = '태풍' # 키워드\n",
    "words = ['부산', '서울', '광주', '대구', '세종', '제주', '울산', '인천'] # 지역명\n",
    "begin = '2016.03.11' # 시작 날 yyyy.mm.dd\n",
    "end = '2018.06.15' # 끝 날 yyyy.mm.dd"
   ]
  },
  {
   "cell_type": "code",
   "execution_count": 54,
   "metadata": {},
   "outputs": [],
   "source": [
    "url = 'https://search.naver.com/search.naver?where=news&query='+ keywords \\\n",
    "    +'&sm=tab_opt&sort=0&photo=0&field=0&reporter_article=&pd=3&ds=' \\\n",
    "    + begin + '&de=' + end + \\\n",
    "    '&docid=&nso=&mynews=0&refresh_start=0&related=0'"
   ]
  },
  {
   "cell_type": "code",
   "execution_count": 55,
   "metadata": {},
   "outputs": [],
   "source": [
    "driver.get(url)"
   ]
  },
  {
   "cell_type": "code",
   "execution_count": 28,
   "metadata": {},
   "outputs": [
    {
     "name": "stdout",
     "output_type": "stream",
     "text": [
      "7\n"
     ]
    }
   ],
   "source": [
    "linkList = driver.find_elements_by_class_name(\"_sp_each_url\")\n",
    "sources = driver.find_elements_by_class_name(\"_sp_each_source\")\n",
    "\n",
    "for i, link in enumerate(linkList):\n",
    "    if link.text == '네이버뉴스':\n",
    "        print(i)"
   ]
  },
  {
   "cell_type": "code",
   "execution_count": 25,
   "metadata": {},
   "outputs": [
    {
     "name": "stdout",
     "output_type": "stream",
     "text": [
      "https://search.naver.com/p/crd/rd?m=1&px=0&py=0&sx=0&sy=0&p=U7a+AwpVuEVssbdid28ssssstos-344550&q=%C8%AB%BC%F6&ssc=tab.news.all&f=news&w=news&s=WXC6/B2ukq2ukvh+Wllh7g==&time=1555136143209&a=nws*a.nav&r=26&i=88000108_000000000000000003319592&u=https%3A//news.naver.com/main/read.nhn%3Fmode%3DLSD%26mid%3Dsec%26sid1%3D104%26oid%3D011%26aid%3D0003319592\n",
      "https://search.naver.com/p/crd/rd?m=1&px=0&py=0&sx=0&sy=0&p=U7a+AwpVuEVssbdid28ssssstos-344550&q=%C8%AB%BC%F6&ssc=tab.news.all&f=news&w=news&s=WXC6/B2ukq2ukvh+Wllh7g==&time=1555136143260&a=nws*c.nav&r=27&i=880000D8_000000000000000010142682&u=https%3A//news.naver.com/main/read.nhn%3Fmode%3DLSD%26mid%3Dsec%26sid1%3D104%26oid%3D001%26aid%3D0010142682\n",
      "https://search.naver.com/p/crd/rd?m=1&px=0&py=0&sx=0&sy=0&p=U7a+AwpVuEVssbdid28ssssstos-344550&q=%C8%AB%BC%F6&ssc=tab.news.all&f=news&w=news&s=WXC6/B2ukq2ukvh+Wllh7g==&time=1555136143302&a=nws*e.nav&r=28&i=880000BC_000000000000000004166430&u=https%3A//news.naver.com/main/read.nhn%3Fmode%3DLSD%26mid%3Dsec%26sid1%3D105%26oid%3D009%26aid%3D0004166430\n",
      "https://news.naver.com/main/read.nhn?mode=LSD&mid=sec&sid1=102&oid=016&aid=0001403955\n",
      "https://news.naver.com/main/read.nhn?mode=LSD&mid=sec&sid1=102&oid=016&aid=0001403682\n"
     ]
    }
   ],
   "source": [
    "lst = driver.find_elements_by_tag_name('a')\n",
    "for i in lst:\n",
    "    if i.text == '네이버뉴스':\n",
    "        print(i.get_attribute('href'))"
   ]
  },
  {
   "cell_type": "code",
   "execution_count": 39,
   "metadata": {},
   "outputs": [
    {
     "name": "stdout",
     "output_type": "stream",
     "text": [
      "네이버뉴스\n",
      "네이버뉴스\n",
      "하수처리수 공업용수 재이용사업 본격화\n",
      "'수해 안전 경기도'‥선진적 하천관리방안 모색\n",
      "네이버뉴스\n",
      "네이버뉴스\n",
      "완도군, 수산물 소비 촉진 종합대책 간담회 개최\n",
      "팜한농, 태광배추·탐스런토마토 '주목'\n",
      "예산군 용굴천 지방하천 정비사업 순항\n",
      "경기도, 자연재난 안전지킴이 시범사업 추진....지역 주민 활용키로\n",
      "[발언대] 오늘 16세 소녀를 가슴 뛰게 하는 것\n"
     ]
    }
   ],
   "source": [
    "for t in linkList:\n",
    "    print(t.text)"
   ]
  },
  {
   "cell_type": "markdown",
   "metadata": {},
   "source": [
    "<h3>4000개 페이지 까지만 크롤링 가능. 날자 이용해서 이어나가야할듯<br>\n",
    "수정해야할거 개많당..\n",
    "</h3>"
   ]
  },
  {
   "cell_type": "code",
   "execution_count": 56,
   "metadata": {
    "scrolled": true
   },
   "outputs": [
    {
     "name": "stderr",
     "output_type": "stream",
     "text": [
      "/home/jin/anaconda3/lib/python3.6/site-packages/ipykernel_launcher.py:10: DeprecationWarning: use driver.switch_to.window instead\n",
      "  # Remove the CWD from sys.path while we load stuff.\n",
      "/home/jin/anaconda3/lib/python3.6/site-packages/ipykernel_launcher.py:35: DeprecationWarning: insert is deprecated. Use insert_one or insert_many instead.\n",
      "/home/jin/anaconda3/lib/python3.6/site-packages/ipykernel_launcher.py:40: DeprecationWarning: use driver.switch_to.window instead\n",
      "/home/jin/anaconda3/lib/python3.6/site-packages/ipykernel_launcher.py:44: DeprecationWarning: use driver.switch_to.window instead\n"
     ]
    },
    {
     "ename": "NoSuchElementException",
     "evalue": "Message: no such element: Unable to locate element: {\"method\":\"class name\",\"selector\":\"next\"}\n  (Session info: headless chrome=72.0.3626.121)\n  (Driver info: chromedriver=2.42.591071 (0b695ff80972cc1a65a5cd643186d2ae582cd4ac),platform=Linux 4.15.0-47-generic x86_64)\n",
     "output_type": "error",
     "traceback": [
      "\u001b[0;31m---------------------------------------------------------------------------\u001b[0m",
      "\u001b[0;31mNoSuchElementException\u001b[0m                    Traceback (most recent call last)",
      "\u001b[0;32m<ipython-input-56-76f00693fd6d>\u001b[0m in \u001b[0;36m<module>\u001b[0;34m()\u001b[0m\n\u001b[1;32m     49\u001b[0m \u001b[0;34m\u001b[0m\u001b[0m\n\u001b[1;32m     50\u001b[0m     \u001b[0;31m# 다음 페이지로 이동\u001b[0m\u001b[0;34m\u001b[0m\u001b[0;34m\u001b[0m\u001b[0m\n\u001b[0;32m---> 51\u001b[0;31m     \u001b[0mdriver\u001b[0m\u001b[0;34m.\u001b[0m\u001b[0mfind_element_by_class_name\u001b[0m\u001b[0;34m(\u001b[0m\u001b[0;34m'next'\u001b[0m\u001b[0;34m)\u001b[0m\u001b[0;34m.\u001b[0m\u001b[0msend_keys\u001b[0m\u001b[0;34m(\u001b[0m\u001b[0mKeys\u001b[0m\u001b[0;34m.\u001b[0m\u001b[0mENTER\u001b[0m\u001b[0;34m)\u001b[0m\u001b[0;34m\u001b[0m\u001b[0m\n\u001b[0m\u001b[1;32m     52\u001b[0m     \u001b[0msleep\u001b[0m\u001b[0;34m(\u001b[0m\u001b[0;36m1\u001b[0m\u001b[0;34m)\u001b[0m\u001b[0;34m\u001b[0m\u001b[0m\n\u001b[1;32m     53\u001b[0m \u001b[0;34m\u001b[0m\u001b[0m\n",
      "\u001b[0;32m~/anaconda3/lib/python3.6/site-packages/selenium/webdriver/remote/webdriver.py\u001b[0m in \u001b[0;36mfind_element_by_class_name\u001b[0;34m(self, name)\u001b[0m\n\u001b[1;32m    562\u001b[0m             \u001b[0melement\u001b[0m \u001b[0;34m=\u001b[0m \u001b[0mdriver\u001b[0m\u001b[0;34m.\u001b[0m\u001b[0mfind_element_by_class_name\u001b[0m\u001b[0;34m(\u001b[0m\u001b[0;34m'foo'\u001b[0m\u001b[0;34m)\u001b[0m\u001b[0;34m\u001b[0m\u001b[0m\n\u001b[1;32m    563\u001b[0m         \"\"\"\n\u001b[0;32m--> 564\u001b[0;31m         \u001b[0;32mreturn\u001b[0m \u001b[0mself\u001b[0m\u001b[0;34m.\u001b[0m\u001b[0mfind_element\u001b[0m\u001b[0;34m(\u001b[0m\u001b[0mby\u001b[0m\u001b[0;34m=\u001b[0m\u001b[0mBy\u001b[0m\u001b[0;34m.\u001b[0m\u001b[0mCLASS_NAME\u001b[0m\u001b[0;34m,\u001b[0m \u001b[0mvalue\u001b[0m\u001b[0;34m=\u001b[0m\u001b[0mname\u001b[0m\u001b[0;34m)\u001b[0m\u001b[0;34m\u001b[0m\u001b[0m\n\u001b[0m\u001b[1;32m    565\u001b[0m \u001b[0;34m\u001b[0m\u001b[0m\n\u001b[1;32m    566\u001b[0m     \u001b[0;32mdef\u001b[0m \u001b[0mfind_elements_by_class_name\u001b[0m\u001b[0;34m(\u001b[0m\u001b[0mself\u001b[0m\u001b[0;34m,\u001b[0m \u001b[0mname\u001b[0m\u001b[0;34m)\u001b[0m\u001b[0;34m:\u001b[0m\u001b[0;34m\u001b[0m\u001b[0m\n",
      "\u001b[0;32m~/anaconda3/lib/python3.6/site-packages/selenium/webdriver/remote/webdriver.py\u001b[0m in \u001b[0;36mfind_element\u001b[0;34m(self, by, value)\u001b[0m\n\u001b[1;32m    976\u001b[0m         return self.execute(Command.FIND_ELEMENT, {\n\u001b[1;32m    977\u001b[0m             \u001b[0;34m'using'\u001b[0m\u001b[0;34m:\u001b[0m \u001b[0mby\u001b[0m\u001b[0;34m,\u001b[0m\u001b[0;34m\u001b[0m\u001b[0m\n\u001b[0;32m--> 978\u001b[0;31m             'value': value})['value']\n\u001b[0m\u001b[1;32m    979\u001b[0m \u001b[0;34m\u001b[0m\u001b[0m\n\u001b[1;32m    980\u001b[0m     \u001b[0;32mdef\u001b[0m \u001b[0mfind_elements\u001b[0m\u001b[0;34m(\u001b[0m\u001b[0mself\u001b[0m\u001b[0;34m,\u001b[0m \u001b[0mby\u001b[0m\u001b[0;34m=\u001b[0m\u001b[0mBy\u001b[0m\u001b[0;34m.\u001b[0m\u001b[0mID\u001b[0m\u001b[0;34m,\u001b[0m \u001b[0mvalue\u001b[0m\u001b[0;34m=\u001b[0m\u001b[0;32mNone\u001b[0m\u001b[0;34m)\u001b[0m\u001b[0;34m:\u001b[0m\u001b[0;34m\u001b[0m\u001b[0m\n",
      "\u001b[0;32m~/anaconda3/lib/python3.6/site-packages/selenium/webdriver/remote/webdriver.py\u001b[0m in \u001b[0;36mexecute\u001b[0;34m(self, driver_command, params)\u001b[0m\n\u001b[1;32m    319\u001b[0m         \u001b[0mresponse\u001b[0m \u001b[0;34m=\u001b[0m \u001b[0mself\u001b[0m\u001b[0;34m.\u001b[0m\u001b[0mcommand_executor\u001b[0m\u001b[0;34m.\u001b[0m\u001b[0mexecute\u001b[0m\u001b[0;34m(\u001b[0m\u001b[0mdriver_command\u001b[0m\u001b[0;34m,\u001b[0m \u001b[0mparams\u001b[0m\u001b[0;34m)\u001b[0m\u001b[0;34m\u001b[0m\u001b[0m\n\u001b[1;32m    320\u001b[0m         \u001b[0;32mif\u001b[0m \u001b[0mresponse\u001b[0m\u001b[0;34m:\u001b[0m\u001b[0;34m\u001b[0m\u001b[0m\n\u001b[0;32m--> 321\u001b[0;31m             \u001b[0mself\u001b[0m\u001b[0;34m.\u001b[0m\u001b[0merror_handler\u001b[0m\u001b[0;34m.\u001b[0m\u001b[0mcheck_response\u001b[0m\u001b[0;34m(\u001b[0m\u001b[0mresponse\u001b[0m\u001b[0;34m)\u001b[0m\u001b[0;34m\u001b[0m\u001b[0m\n\u001b[0m\u001b[1;32m    322\u001b[0m             response['value'] = self._unwrap_value(\n\u001b[1;32m    323\u001b[0m                 response.get('value', None))\n",
      "\u001b[0;32m~/anaconda3/lib/python3.6/site-packages/selenium/webdriver/remote/errorhandler.py\u001b[0m in \u001b[0;36mcheck_response\u001b[0;34m(self, response)\u001b[0m\n\u001b[1;32m    240\u001b[0m                 \u001b[0malert_text\u001b[0m \u001b[0;34m=\u001b[0m \u001b[0mvalue\u001b[0m\u001b[0;34m[\u001b[0m\u001b[0;34m'alert'\u001b[0m\u001b[0;34m]\u001b[0m\u001b[0;34m.\u001b[0m\u001b[0mget\u001b[0m\u001b[0;34m(\u001b[0m\u001b[0;34m'text'\u001b[0m\u001b[0;34m)\u001b[0m\u001b[0;34m\u001b[0m\u001b[0m\n\u001b[1;32m    241\u001b[0m             \u001b[0;32mraise\u001b[0m \u001b[0mexception_class\u001b[0m\u001b[0;34m(\u001b[0m\u001b[0mmessage\u001b[0m\u001b[0;34m,\u001b[0m \u001b[0mscreen\u001b[0m\u001b[0;34m,\u001b[0m \u001b[0mstacktrace\u001b[0m\u001b[0;34m,\u001b[0m \u001b[0malert_text\u001b[0m\u001b[0;34m)\u001b[0m\u001b[0;34m\u001b[0m\u001b[0m\n\u001b[0;32m--> 242\u001b[0;31m         \u001b[0;32mraise\u001b[0m \u001b[0mexception_class\u001b[0m\u001b[0;34m(\u001b[0m\u001b[0mmessage\u001b[0m\u001b[0;34m,\u001b[0m \u001b[0mscreen\u001b[0m\u001b[0;34m,\u001b[0m \u001b[0mstacktrace\u001b[0m\u001b[0;34m)\u001b[0m\u001b[0;34m\u001b[0m\u001b[0m\n\u001b[0m\u001b[1;32m    243\u001b[0m \u001b[0;34m\u001b[0m\u001b[0m\n\u001b[1;32m    244\u001b[0m     \u001b[0;32mdef\u001b[0m \u001b[0m_value_or_default\u001b[0m\u001b[0;34m(\u001b[0m\u001b[0mself\u001b[0m\u001b[0;34m,\u001b[0m \u001b[0mobj\u001b[0m\u001b[0;34m,\u001b[0m \u001b[0mkey\u001b[0m\u001b[0;34m,\u001b[0m \u001b[0mdefault\u001b[0m\u001b[0;34m)\u001b[0m\u001b[0;34m:\u001b[0m\u001b[0;34m\u001b[0m\u001b[0m\n",
      "\u001b[0;31mNoSuchElementException\u001b[0m: Message: no such element: Unable to locate element: {\"method\":\"class name\",\"selector\":\"next\"}\n  (Session info: headless chrome=72.0.3626.121)\n  (Driver info: chromedriver=2.42.591071 (0b695ff80972cc1a65a5cd643186d2ae582cd4ac),platform=Linux 4.15.0-47-generic x86_64)\n"
     ]
    }
   ],
   "source": [
    "for i in range(1000):\n",
    "    linkList = driver.find_elements_by_class_name(\"_sp_each_url\")\n",
    "    sources = driver.find_elements_by_class_name(\"_sp_each_source\")\n",
    "\n",
    "    for i, link in enumerate(linkList):\n",
    "        if link.text == '네이버뉴스':\n",
    "#             source = sources[i].text # 출처\n",
    "            link.send_keys(Keys.ENTER)\n",
    "            try:\n",
    "                driver.switch_to_window(driver.window_handles[1])\n",
    "\n",
    "                element = WebDriverWait(driver, 5).until(\n",
    "                    EC.presence_of_element_located((By.ID, \"articleTitle\"))) # 로딩이 안되면 5초 기다려줍니다\n",
    "\n",
    "                title = driver.find_element_by_id(\"articleTitle\").text # 제목\n",
    "                content = driver.find_element_by_id(\"articleBodyContents\").text # 본문\n",
    "                date = driver.find_element_by_class_name(\"t11\").text # 게시일\n",
    "                url = driver.current_url # 현재 URL\n",
    "\n",
    "                for term in words: \n",
    "                    if term not in content:\n",
    "                        words.remove(term)\n",
    "                \n",
    "                result = {\n",
    "                    'title' : title,\n",
    "                    'url' : url,\n",
    "                    'date' : date,\n",
    "                    'keywords' : keywords,\n",
    "                    'beloningWords' : words,\n",
    "                    'begin-date' : begin,\n",
    "                    'end-date' : end,\n",
    "                    'contents' : content\n",
    "                }\n",
    "                \n",
    "                results.insert(result)\n",
    "                \n",
    "                driver.close()\n",
    "                driver.switch_to_window(driver.window_handles[0])\n",
    "                \n",
    "            except TimeoutException as e:\n",
    "                driver.close()\n",
    "                driver.switch_to_window(driver.window_handles[0])\n",
    "            \n",
    "            finally:\n",
    "                \n",
    "                sleep(1)\n",
    "                \n",
    "    # 다음 페이지로 이동            \n",
    "    driver.find_element_by_class_name('next').send_keys(Keys.ENTER)\n",
    "    sleep(1)\n",
    "\n",
    "# driver.quit()"
   ]
  },
  {
   "cell_type": "code",
   "execution_count": 173,
   "metadata": {},
   "outputs": [
    {
     "name": "stderr",
     "output_type": "stream",
     "text": [
      "/home/jin/anaconda3/lib/python3.6/site-packages/ipykernel_launcher.py:1: DeprecationWarning: use driver.switch_to.window instead\n",
      "  \"\"\"Entry point for launching an IPython kernel.\n"
     ]
    }
   ],
   "source": [
    "driver.switch_to_window(driver.window_handles[0])"
   ]
  },
  {
   "cell_type": "markdown",
   "metadata": {},
   "source": [
    "<h2>크롤러 고도화를 위한 코드(ongoing)</h2>\n"
   ]
  },
  {
   "cell_type": "code",
   "execution_count": 131,
   "metadata": {},
   "outputs": [
    {
     "name": "stderr",
     "output_type": "stream",
     "text": [
      "/home/jin/anaconda3/lib/python3.6/site-packages/ipykernel_launcher.py:5: DeprecationWarning: use driver.switch_to.window instead\n",
      "  \"\"\"\n"
     ]
    },
    {
     "name": "stdout",
     "output_type": "stream",
     "text": [
      "[]\n"
     ]
    },
    {
     "name": "stderr",
     "output_type": "stream",
     "text": [
      "/home/jin/anaconda3/lib/python3.6/site-packages/ipykernel_launcher.py:39: DeprecationWarning: use driver.switch_to.window instead\n"
     ]
    },
    {
     "name": "stdout",
     "output_type": "stream",
     "text": [
      "[]\n",
      "[]\n",
      "[]\n",
      "[]\n",
      "[]\n",
      "[]\n",
      "[]\n",
      "[]\n"
     ]
    }
   ],
   "source": [
    "for link in linkList[1:]:\n",
    "    \n",
    "    link.send_keys(Keys.ENTER) # 해당 뉴스 클릭\n",
    "    try:\n",
    "        elem = WebDriverWait(driver, 7).until(EC.presence_of_element_located())\n",
    "    except TimeoutException:\n",
    "        \n",
    "    driver.switch_to_window(driver.window_handles[1]) # 드라이버 시점 전환\n",
    "    \n",
    "    try:\n",
    "        txt = driver.find_element_by_xpath(\"//div[contains(., 'article')]\").text\n",
    "    except:\n",
    "        txt = driver.find_element_by_xpath(\"//div[contains(., 'content')]\").text\n",
    "    \n",
    "    contents = list(filter(None, txt.split('\\n')))\n",
    "    \n",
    "    filtered = []\n",
    "    for content in contents:\n",
    "        beginFlag, endFlag = False, False\n",
    "        queue, cnt = [], 0\n",
    "        \n",
    "        if pattern.match(content) != None:\n",
    "            beginFlag = True\n",
    "        if len(content) > 50:\n",
    "            endFlag = True\n",
    "            \n",
    "        if beginFlag == True and len(content) > 10:\n",
    "            filtered.append(content)\n",
    "                    \n",
    "        # 기사의 끝을 알기 위한 조건\n",
    "        if beginFlag == True and '@' in content:\n",
    "            break\n",
    "        # 기자의 메일이 없는 경우\n",
    "        if endFlag == True and len(content) < 10:\n",
    "            queue.append(content)\n",
    "            cnt = cnt + 1\n",
    "                \n",
    "        if cnt == 3:\n",
    "            break\n",
    "    print(filtered)\n",
    "                    \n",
    "    driver.switch_to_window(driver.window_handles[0]) # 뉴스 리스트 창으로 화면 전환\n",
    "    "
   ]
  },
  {
   "cell_type": "code",
   "execution_count": null,
   "metadata": {},
   "outputs": [],
   "source": []
  }
 ],
 "metadata": {
  "kernelspec": {
   "display_name": "Python 3",
   "language": "python",
   "name": "python3"
  },
  "language_info": {
   "codemirror_mode": {
    "name": "ipython",
    "version": 3
   },
   "file_extension": ".py",
   "mimetype": "text/x-python",
   "name": "python",
   "nbconvert_exporter": "python",
   "pygments_lexer": "ipython3",
   "version": "3.6.5"
  }
 },
 "nbformat": 4,
 "nbformat_minor": 2
}
