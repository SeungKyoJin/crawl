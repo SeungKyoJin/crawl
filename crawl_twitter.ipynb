{
 "cells": [
  {
   "cell_type": "code",
   "execution_count": 1,
   "metadata": {},
   "outputs": [],
   "source": [
    "from selenium import webdriver\n",
    "from selenium.webdriver.common.keys import Keys\n",
    "from selenium.webdriver.support.ui import Select\n",
    "from time import sleep\n",
    "from pymongo import MongoClient\n",
    "import re\n",
    "\n",
    "from selenium.webdriver.support.ui import WebDriverWait\n",
    "from selenium.webdriver.support import expected_conditions as EC\n",
    "from selenium.webdriver.common.by import By\n",
    "from selenium.common.exceptions import TimeoutException"
   ]
  },
  {
   "cell_type": "code",
   "execution_count": 2,
   "metadata": {},
   "outputs": [],
   "source": [
    "import datetime as dt\n",
    "from bs4 import BeautifulSoup as bs\n",
    "import requests"
   ]
  },
  {
   "cell_type": "code",
   "execution_count": 2,
   "metadata": {},
   "outputs": [],
   "source": [
    "options = webdriver.ChromeOptions()\n",
    "options.add_argument('headless')\n",
    "options.add_argument('window-size=1920x1080')\n",
    "options.add_argument('disable-gpu')\n",
    "options.add_argument(\"user-agent=Mozilla/5.0 (Macintosh; Intel Mac OS X 10_12_6) AppleWebKit/537.36 (KHTML, like Gecko) Chrome/61.0.3163.100 Safari/537.36\")\n",
    "options.add_argument(\"lang=ko_KR\")"
   ]
  },
  {
   "cell_type": "code",
   "execution_count": 3,
   "metadata": {},
   "outputs": [],
   "source": [
    "client = MongoClient()\n",
    "db = client.test\n",
    "results = db.results_twitter"
   ]
  },
  {
   "cell_type": "code",
   "execution_count": 4,
   "metadata": {},
   "outputs": [],
   "source": [
    "# 크롬 드라이버의 경로\n",
    "# headless\n",
    "add = '/home/jin/다운로드/chromedriver'\n",
    "driver = webdriver.Chrome(add)\n",
    "# , chrome_options=options)"
   ]
  },
  {
   "cell_type": "code",
   "execution_count": 5,
   "metadata": {},
   "outputs": [],
   "source": [
    "keywords = '재난' # 키워드\n",
    "words = ['부산', '서울', '광주', '대구', '세종', '제주', '울산', '인천'] # 지역명\n",
    "startdate = dt.date(year=2019, month=4, day=1)\n",
    "untildate = dt.date(year=2019, month=4, day=2)\n",
    "enddate = dt.date(year=2019, month=4, day=4)"
   ]
  },
  {
   "cell_type": "code",
   "execution_count": 6,
   "metadata": {},
   "outputs": [],
   "source": [
    "url = 'https://twitter.com/search?l=&q='+ keywords +'%20since%3A'+ str(startdate) +'%20until%3A'+ str(enddate) +'&src=typd'"
   ]
  },
  {
   "cell_type": "code",
   "execution_count": 7,
   "metadata": {},
   "outputs": [],
   "source": [
    "driver.get(url)"
   ]
  },
  {
   "cell_type": "code",
   "execution_count": 9,
   "metadata": {},
   "outputs": [],
   "source": [
    "startdate = dt.date(year=2019, month=3, day=1)\n",
    "untildate = dt.date(year=2019, month=3, day=2)\n",
    "enddate = dt.date(year=2019, month=4, day=30)"
   ]
  },
  {
   "cell_type": "code",
   "execution_count": 10,
   "metadata": {},
   "outputs": [
    {
     "name": "stderr",
     "output_type": "stream",
     "text": [
      "/home/jin/anaconda3/lib/python3.6/site-packages/ipykernel_launcher.py:30: DeprecationWarning: insert is deprecated. Use insert_one or insert_many instead.\n"
     ]
    }
   ],
   "source": [
    "while not enddate == startdate:\n",
    "    url='https://twitter.com/search?l=&q=' \\\n",
    "        + keywords +'%20since%3A'+ str(startdate) \\\n",
    "        + '%20until%3A'+ str(enddate) +'&src=typd'\n",
    "    \n",
    "    driver.get(url)\n",
    "\n",
    "    html = driver.page_source\n",
    "    soup = bs(html, 'html.parser')\n",
    "    \n",
    "    # 무한 스크롤\n",
    "    lastHeight = driver.execute_script('return document.body.scrollHeight')\n",
    "    \n",
    "    while True:        \n",
    "        # 무한 스크롤\n",
    "        driver.execute_script('window.scrollTo(0, document.body.scrollHeight);')\n",
    "        sleep(1)\n",
    "        newHeight = driver.execute_script('return document.body.scrollHeight')\n",
    "        \n",
    "        if newHeight == lastHeight:\n",
    "            html = driver.page_source\n",
    "            soup = bs(html, 'html.parser')\n",
    "            tweets = soup.find_all('p', {'class': 'TweetTextSize'})\n",
    "\n",
    "            for t in tweets:\n",
    "                result = {\n",
    "                    'content' : t.text,\n",
    "                    'date' : str(startdate),\n",
    "                    'keywords' : keywords\n",
    "                }\n",
    "                \n",
    "                results.insert(result)\n",
    "                \n",
    "            startdate = untildate\n",
    "            untildate += dt.timedelta(days=1)\n",
    "            \n",
    "            break\n",
    "        \n",
    "        lastHeight = newHeight\n",
    "    \n",
    "    "
   ]
  },
  {
   "cell_type": "code",
   "execution_count": 34,
   "metadata": {},
   "outputs": [
    {
     "name": "stdout",
     "output_type": "stream",
     "text": [
      "{'_id': ObjectId('5cc726d485861019a68542a2'), 'content': '일부 뇌구조가 비정상적이 토왜들~\\n\\n“진성호, ‘산불재난사태에, 문재인 대통령 언론사 사장들과 술마셨다’”\\n\"이언주, \\'언론에서(대통령) 지병설, 숙취 의혹을 얘기한다\\'”\\n\\n진성호, 유튜브에서 가짜뉴스 제작해서 먹고사는 머리가 희안한 토착왜구 아니냐? 쓰레기 청소는 절대 선처없이 빠를수록 좋다. pic.twitter.com/7riyGsSpsM', 'date': '2019-04-01', 'keywords': '재난'}\n",
      "{'_id': ObjectId('5cc726d485861019a68542a3'), 'content': \"정문호 소방청장님에게 강원 산불 소방대응단계 발령이 '적절한 조치였냐'고 따져 묻고 있는 이언주. 어따 대고 감히. 야! 이번 강원 산불 대응은 '재난 대응 교본에 대표적 성공 사례로 꼽힐 가능성이 높다'더라. 알고나 좀 떠들어! 아~ 짜증 나. 존재 자체가 악이야 아주! pic.twitter.com/ZdFVXKIXq8\", 'date': '2019-04-01', 'keywords': '재난'}\n",
      "{'_id': ObjectId('5cc726d485861019a68542a4'), 'content': '\"부실 재난방송\\n시스템 재검토하라\"\\n문재인 대통령, KBS 질타 pic.twitter.com/4FSzjimvr5', 'date': '2019-04-01', 'keywords': '재난'}\n"
     ]
    }
   ],
   "source": [
    "for t in results.find().limit(3):\n",
    "    print(t)"
   ]
  },
  {
   "cell_type": "code",
   "execution_count": 11,
   "metadata": {},
   "outputs": [
    {
     "name": "stderr",
     "output_type": "stream",
     "text": [
      "/home/jin/anaconda3/lib/python3.6/site-packages/ipykernel_launcher.py:1: DeprecationWarning: count is deprecated. Use estimated_document_count or count_documents instead. Please note that $where must be replaced by $expr, $near must be replaced by $geoWithin with $center, and $nearSphere must be replaced by $geoWithin with $centerSphere\n",
      "  \"\"\"Entry point for launching an IPython kernel.\n"
     ]
    },
    {
     "data": {
      "text/plain": [
       "8492"
      ]
     },
     "execution_count": 11,
     "metadata": {},
     "output_type": "execute_result"
    }
   ],
   "source": [
    "results.count()"
   ]
  },
  {
   "cell_type": "code",
   "execution_count": null,
   "metadata": {},
   "outputs": [],
   "source": []
  }
 ],
 "metadata": {
  "kernelspec": {
   "display_name": "Python 3",
   "language": "python",
   "name": "python3"
  },
  "language_info": {
   "codemirror_mode": {
    "name": "ipython",
    "version": 3
   },
   "file_extension": ".py",
   "mimetype": "text/x-python",
   "name": "python",
   "nbconvert_exporter": "python",
   "pygments_lexer": "ipython3",
   "version": "3.6.5"
  }
 },
 "nbformat": 4,
 "nbformat_minor": 2
}
