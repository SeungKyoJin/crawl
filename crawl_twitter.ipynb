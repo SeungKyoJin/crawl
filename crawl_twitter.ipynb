{
 "cells": [
  {
   "cell_type": "code",
   "execution_count": 1,
   "metadata": {},
   "outputs": [],
   "source": [
    "from selenium import webdriver\n",
    "from selenium.webdriver.common.keys import Keys\n",
    "from selenium.webdriver.support.ui import Select\n",
    "from time import sleep\n",
    "from pymongo import MongoClient\n",
    "import re\n",
    "\n",
    "from selenium.webdriver.support.ui import WebDriverWait\n",
    "from selenium.webdriver.support import expected_conditions as EC\n",
    "from selenium.webdriver.common.by import By\n",
    "from selenium.common.exceptions import TimeoutException"
   ]
  },
  {
   "cell_type": "code",
   "execution_count": 23,
   "metadata": {},
   "outputs": [],
   "source": [
    "import datetime as dt\n",
    "from bs4 import BeautifulSoup as bs\n",
    "import requests"
   ]
  },
  {
   "cell_type": "code",
   "execution_count": 2,
   "metadata": {},
   "outputs": [],
   "source": [
    "options = webdriver.ChromeOptions()\n",
    "options.add_argument('headless')\n",
    "options.add_argument('window-size=1920x1080')\n",
    "options.add_argument('disable-gpu')\n",
    "options.add_argument(\"user-agent=Mozilla/5.0 (Macintosh; Intel Mac OS X 10_12_6) AppleWebKit/537.36 (KHTML, like Gecko) Chrome/61.0.3163.100 Safari/537.36\")\n",
    "options.add_argument(\"lang=ko_KR\")"
   ]
  },
  {
   "cell_type": "code",
   "execution_count": 4,
   "metadata": {},
   "outputs": [],
   "source": [
    "client = MongoClient()\n",
    "db = client.test\n",
    "results = db.results_twitter"
   ]
  },
  {
   "cell_type": "code",
   "execution_count": 5,
   "metadata": {},
   "outputs": [],
   "source": [
    "# 크롬 드라이버의 경로\n",
    "# headless\n",
    "add = '/home/jin/다운로드/chromedriver'\n",
    "driver = webdriver.Chrome(add)\n",
    "# , chrome_options=options)"
   ]
  },
  {
   "cell_type": "code",
   "execution_count": 13,
   "metadata": {},
   "outputs": [],
   "source": [
    "keywords = '이대성' # 키워드\n",
    "words = ['부산', '서울', '광주', '대구', '세종', '제주', '울산', '인천'] # 지역명\n",
    "startdate = dt.date(year=2019, month=4, day=1)\n",
    "untildate = dt.date(year=2019, month=4, day=2)\n",
    "enddate = dt.date(year=2019, month=4, day=10)"
   ]
  },
  {
   "cell_type": "code",
   "execution_count": 21,
   "metadata": {},
   "outputs": [],
   "source": [
    "url = 'https://twitter.com/search?l=&q='+ keywords +'%20since%3A'+ str(startdate) +'%20until%3A'+ str(end) +'&src=typd'"
   ]
  },
  {
   "cell_type": "code",
   "execution_count": 15,
   "metadata": {},
   "outputs": [],
   "source": [
    "driver.get(url)"
   ]
  },
  {
   "cell_type": "code",
   "execution_count": 17,
   "metadata": {},
   "outputs": [],
   "source": [
    "startdate = dt.date(year=2019, month=4, day=1)\n",
    "untildate = dt.date(year=2019, month=4, day=2)\n",
    "enddate = dt.date(year=2019, month=4, day=10)"
   ]
  },
  {
   "cell_type": "code",
   "execution_count": 29,
   "metadata": {},
   "outputs": [
    {
     "name": "stdout",
     "output_type": "stream",
     "text": [
      "2969\n"
     ]
    }
   ],
   "source": [
    "total = []\n",
    "while not enddate == startdate:\n",
    "    url='https://twitter.com/search?l=&q=' \\\n",
    "        + keywords +'%20since%3A'+ str(startdate) \\\n",
    "        + '%20until%3A'+ str(end) +'&src=typd'\n",
    "    \n",
    "    driver.get(url)\n",
    "\n",
    "    html = driver.page_source\n",
    "    soup = bs(html, 'html.parser')\n",
    "    \n",
    "    lastH = driver.execute_script('return document.body.scrollHeight')\n",
    "    \n",
    "    while True:\n",
    "        dailyfreq = {'Date':startdate}\n",
    "        wordfreq = 0\n",
    "        \n",
    "        tweets = soup.find_all('p', {'class': 'TweetTextSize'})\n",
    "        wordfreq = len(tweets)\n",
    "        \n",
    "        driver.execute_script('window.scrollTo(0, document.body.scrollHeight);')\n",
    "        \n",
    "        time.sleep(1)\n",
    "        \n",
    "        newH = driver.execute_script('return document.body.scrollHeight')\n",
    "        print(newH)\n",
    "        if newH != lastHeight:\n",
    "            html = browser.page_source\n",
    "            soup = bs(html, 'html.parser')\n",
    "            tweets = soup.find_all('p', {'class': 'TweetTextSize'})\n",
    "            wordfreq = len(tweets)\n",
    "        else:\n",
    "            dailyfreq['Freq'] = wordfreq\n",
    "            wordfreq = 0\n",
    "            total.append(dailyfreq)\n",
    "            startdate = untildate\n",
    "            untildate += dt.timedelta(days=1)\n",
    "            dailyfreq = {}\n",
    "            \n",
    "            break\n",
    "        lastHeight = newHeight\n",
    "    \n",
    "    "
   ]
  },
  {
   "cell_type": "code",
   "execution_count": 20,
   "metadata": {},
   "outputs": [
    {
     "data": {
      "text/plain": [
       "'2019-04-01'"
      ]
     },
     "execution_count": 20,
     "metadata": {},
     "output_type": "execute_result"
    }
   ],
   "source": [
    "str(startdate)"
   ]
  },
  {
   "cell_type": "code",
   "execution_count": 30,
   "metadata": {},
   "outputs": [],
   "source": [
    "tweets = soup.find_all('p', {'class': 'TweetTextSize'})"
   ]
  },
  {
   "cell_type": "code",
   "execution_count": 38,
   "metadata": {},
   "outputs": [
    {
     "name": "stdout",
     "output_type": "stream",
     "text": [
      "<p class=\"TweetTextSize js-tweet-text tweet-text\" data-aria-label-part=\"0\" lang=\"ko\">[투데이★] 꿈의 무대 다시 찾는 <strong>이대성</strong> “나에게 약했던 팟츠, 다시 막겠다” <a class=\"twitter-timeline-link\" data-expanded-url=\"http://m.jumpball.co.kr/view.php?no=73260\" dir=\"ltr\" href=\"https://t.co/bcBoDrPgxa\" rel=\"nofollow noopener\" target=\"_blank\" title=\"http://m.jumpball.co.kr/view.php?no=73260\"><span class=\"tco-ellipsis\"></span><span class=\"invisible\">http://</span><span class=\"js-display-url\">m.jumpball.co.kr/view.php?no=73</span><span class=\"invisible\">260</span><span class=\"tco-ellipsis\"><span class=\"invisible\"> </span>…</span></a></p>\n",
      "<p class=\"TweetTextSize js-tweet-text tweet-text\" data-aria-label-part=\"0\" lang=\"ko\">8분에 <strong>이대성</strong> 3점 암만봐도 3점인데 무슨 비디오판독하고도 2점이라네 홈콜 ㅅㅂ 정의구현 잘했네 <a class=\"twitter-timeline-link\" data-expanded-url=\"http://naver.me/G6KTPLSd\" dir=\"ltr\" href=\"https://t.co/RTHy3U8UBj\" rel=\"nofollow noopener\" target=\"_blank\" title=\"http://naver.me/G6KTPLSd\"><span class=\"tco-ellipsis\"></span><span class=\"invisible\">http://</span><span class=\"js-display-url\">naver.me/G6KTPLSd</span><span class=\"invisible\"></span><span class=\"tco-ellipsis\"><span class=\"invisible\"> </span></span></a></p>\n",
      "<p class=\"TweetTextSize js-tweet-text tweet-text\" data-aria-label-part=\"0\" lang=\"ko\"><strong>이대성</strong>이구나 ㅋㅋㅋㅋㅋ 오늘 엠븨피</p>\n",
      "<p class=\"TweetTextSize js-tweet-text tweet-text\" data-aria-label-part=\"0\" lang=\"ko\">5.1초 남기고 <strong>이대성</strong> 쇄기골\n",
      "정규1위 몹 챔프전 진출에 성공\n",
      "\n",
      "장판은 6강부터 4강까지 4승4패로\n",
      "마무리\n",
      "륵은 3승5패로 마무리\n",
      "6강부터 올라가기는 힘들다는걸 보여준\n",
      "4강전이엇고\n",
      "이변없이 정규리그 1-2위팀의\n",
      "챔프전 진출이다</p>\n",
      "<p class=\"TweetTextSize js-tweet-text tweet-text\" data-aria-label-part=\"0\" lang=\"ko\"><strong>이대성</strong> 참 매력있다.</p>\n",
      "<p class=\"TweetTextSize js-tweet-text tweet-text\" data-aria-label-part=\"0\" lang=\"ko\">장판졌네 지금 <strong>이대성</strong> 2점 쐐기포다 5초남앗는데 4점차 어케이김... 신명호가 오픈찬스에서 3점 놓친게 너무 큼ㅋㅋㅋㅋㅋㅋㅋ</p>\n",
      "<p class=\"TweetTextSize js-tweet-text tweet-text\" data-aria-label-part=\"0\" lang=\"ko\">이겼다!!!!!!!!!!!!!!!!!!!!!!!!!!!!!!!!!!!!! 이건 이겼어 <strong>이대성</strong>!!!!!!!!!!!!!!!!!!!!</p>\n",
      "<p class=\"TweetTextSize js-tweet-text tweet-text\" data-aria-label-part=\"0\" lang=\"ko\"><strong>이대성</strong>!!!!</p>\n",
      "<p class=\"TweetTextSize js-tweet-text tweet-text\" data-aria-label-part=\"0\" lang=\"ko\">양동근 <strong>이대성</strong> 오픈찬스 둘다 놓치냐ㅋㅋㅋㅋㅋㅋㅋㅋ양팀 다 턴오버 잔치하넼ㅋㅋㅋㅋㅋㅋㅋㅋ</p>\n",
      "<p class=\"TweetTextSize js-tweet-text tweet-text\" data-aria-label-part=\"0\" lang=\"ko\"><strong>이대성</strong> 억울할만 하네 이정현(절레절레)</p>\n",
      "<p class=\"TweetTextSize js-tweet-text tweet-text\" data-aria-label-part=\"0\" lang=\"ko\">&lt;농구&gt; '킨 신들린 3점슛' <a class=\"twitter-hashtag pretty-link js-nav\" data-query-source=\"hashtag_click\" dir=\"ltr\" href=\"/hashtag/%EC%A0%84%EC%A3%BCKCC?src=hash\"><s>#</s><b>전주KCC</b></a>, 울산현대모비스에 반격 1승!\n",
      "7일 전주에서 열린 프로농구 4강 플레이오프 3차전 홈경기에서 킨이 신들린 외곽포를 터트리고 브라운이 28점으로 맹활약한 덕에 <strong>이대성</strong>과 라건아가 분전한 모비스를 시종일관 리드한 끝에 87-79로 승리하며 2패 후 1승. <a class=\"twitter-timeline-link\" data-pre-embedded=\"true\" dir=\"ltr\" href=\"https://t.co/V03sejtzRR\">pic.twitter.com/V03sejtzRR</a></p>\n",
      "<p class=\"TweetTextSize js-tweet-text tweet-text\" data-aria-label-part=\"0\" lang=\"ko\"><strong>이대성</strong> 미쳤다 라는 연속 트윗을 봤는데도 졌다… 짜증…</p>\n",
      "<p class=\"TweetTextSize js-tweet-text tweet-text\" data-aria-label-part=\"0\" lang=\"ko\"><strong>이대성</strong> 미쳤네</p>\n",
      "<p class=\"TweetTextSize js-tweet-text tweet-text\" data-aria-label-part=\"0\" lang=\"ko\">와 방금은 <strong>이대성</strong> 수비가 느슨하지 않았는데 이정현 돌아나오는 움직임이 좋았다</p>\n",
      "<p class=\"TweetTextSize js-tweet-text tweet-text\" data-aria-label-part=\"0\" lang=\"ko\">미식한 고독가 ; 스시요아케 \n",
      "신상스시야라고 하기엔 4개월째된 스시야 \n",
      "재료만큼은 최고라고 자부한다. \n",
      "생각보다 샤리간이 쎄서 조금 놀랬지만 그렇다고 겁날 정도는 아니였다. \n",
      "그리고 <strong>이대성</strong> 솊의 친절한 설명도 좋았,,,,그리고 이번 하이라이트는 안키모였다. 진짜 달앗어 ㅠ\n",
      "대신 비싼것이 단점 <a class=\"twitter-timeline-link\" data-pre-embedded=\"true\" dir=\"ltr\" href=\"https://t.co/rBt52nc7fW\">pic.twitter.com/rBt52nc7fW</a></p>\n",
      "<p class=\"TweetTextSize js-tweet-text tweet-text\" data-aria-label-part=\"0\" lang=\"ko\"><strong>이대성</strong> 3점 포효 (출처 : 연합뉴스 | 네이버 스포츠) <a class=\"twitter-timeline-link\" data-expanded-url=\"http://naver.me/GaY5qs52\" dir=\"ltr\" href=\"https://t.co/RaHDlghZRy\" rel=\"nofollow noopener\" target=\"_blank\" title=\"http://naver.me/GaY5qs52\"><span class=\"tco-ellipsis\"></span><span class=\"invisible\">http://</span><span class=\"js-display-url\">naver.me/GaY5qs52</span><span class=\"invisible\"></span><span class=\"tco-ellipsis\"><span class=\"invisible\"> </span></span></a></p>\n",
      "<p class=\"TweetTextSize js-tweet-text tweet-text\" data-aria-label-part=\"0\" lang=\"ko\">“77% 확률 잡아라” <strong>이대성</strong> vs 이정현 가드빅뱅 <a class=\"twitter-timeline-link\" data-expanded-url=\"https://sports.news.naver.com/basketball/news/read.nhn?oid=144&amp;aid=0000603126\" dir=\"ltr\" href=\"https://t.co/6b4RJIqwks\" rel=\"nofollow noopener\" target=\"_blank\" title=\"https://sports.news.naver.com/basketball/news/read.nhn?oid=144&amp;aid=0000603126\"><span class=\"tco-ellipsis\"></span><span class=\"invisible\">https://</span><span class=\"js-display-url\">sports.news.naver.com/basketball/new</span><span class=\"invisible\">s/read.nhn?oid=144&amp;aid=0000603126</span><span class=\"tco-ellipsis\"><span class=\"invisible\"> </span>…</span></a></p>\n",
      "<p class=\"TweetTextSize js-tweet-text tweet-text\" data-aria-label-part=\"0\" lang=\"ko\"><strong>이대성</strong> <a class=\"twitter-timeline-link u-hidden\" data-pre-embedded=\"true\" dir=\"ltr\" href=\"https://t.co/iLMPE4CXqa\">pic.twitter.com/iLMPE4CXqa</a></p>\n"
     ]
    }
   ],
   "source": [
    "for t in tweets:\n",
    "    print(t)"
   ]
  },
  {
   "cell_type": "code",
   "execution_count": null,
   "metadata": {},
   "outputs": [],
   "source": []
  }
 ],
 "metadata": {
  "kernelspec": {
   "display_name": "Python 3",
   "language": "python",
   "name": "python3"
  },
  "language_info": {
   "codemirror_mode": {
    "name": "ipython",
    "version": 3
   },
   "file_extension": ".py",
   "mimetype": "text/x-python",
   "name": "python",
   "nbconvert_exporter": "python",
   "pygments_lexer": "ipython3",
   "version": "3.6.5"
  }
 },
 "nbformat": 4,
 "nbformat_minor": 2
}
